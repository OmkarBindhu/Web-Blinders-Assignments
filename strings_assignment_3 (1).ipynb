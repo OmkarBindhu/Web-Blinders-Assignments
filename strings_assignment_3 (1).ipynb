{
  "nbformat": 4,
  "nbformat_minor": 0,
  "metadata": {
    "colab": {
      "provenance": []
    },
    "kernelspec": {
      "name": "python3",
      "display_name": "Python 3"
    },
    "language_info": {
      "name": "python"
    }
  },
  "cells": [
    {
      "cell_type": "markdown",
      "source": [
        "1.Write a Python program to count the number of vowels in a string.\n",
        "\n",
        "input : hasdfgeuionhjl"
      ],
      "metadata": {
        "id": "q8RkYTES1QUW"
      }
    },
    {
      "cell_type": "code",
      "source": [
        "# write your code here\n",
        "str = input()\n",
        "v =['a','e','i','o','u']\n",
        "c = 0\n",
        "for i in str:\n",
        "    if i in v :\n",
        "        c = c+1\n",
        "print(c)"
      ],
      "metadata": {
        "id": "UHi6ezjV1X0s",
        "colab": {
          "base_uri": "https://localhost:8080/"
        },
        "outputId": "4d1cafb9-ca79-497f-ea6c-d64f9419780a"
      },
      "execution_count": null,
      "outputs": [
        {
          "output_type": "stream",
          "name": "stdout",
          "text": [
            "cab\n",
            "1\n"
          ]
        }
      ]
    },
    {
      "cell_type": "markdown",
      "source": [
        "2.Write a Python program to count the occurrences of each word in a sentence.\n",
        "\n",
        "input : hi hello hi and and hi more and more programming"
      ],
      "metadata": {
        "id": "v7GBEK161QWy"
      }
    },
    {
      "cell_type": "code",
      "source": [
        "# write your code here\n",
        "dic = {}\n",
        "str = input()\n",
        "l = str.split()\n",
        "for word in l:\n",
        "    if word in dic:\n",
        "        dic[word] = dic[word] + 1\n",
        "    else:\n",
        "        dic[word] = 1\n",
        "print(dic)\n"
      ],
      "metadata": {
        "id": "R-UzDybK1uZo",
        "colab": {
          "base_uri": "https://localhost:8080/"
        },
        "outputId": "785f21a2-f33a-4e06-c0c8-e6a42af721b4"
      },
      "execution_count": null,
      "outputs": [
        {
          "output_type": "stream",
          "name": "stdout",
          "text": [
            "hi hello hi and and hi more and more programming\n",
            "{'hi': 3, 'hello': 1, 'and': 3, 'more': 2, 'programming': 1}\n"
          ]
        }
      ]
    },
    {
      "cell_type": "markdown",
      "source": [
        "3.In python how can you differentiate strings and lists. Give atleast 5 different comparisons between them."
      ],
      "metadata": {
        "id": "evCcw-0H1QY9"
      }
    },
    {
      "cell_type": "markdown",
      "source": [
        "1.Strings are immutable where as List are mutable\n",
        "2.Strings are collection of characters ,Lists are ordered sequence of different data types\n",
        "3.String methods are used for text manipulation and lists are used to modifycollection.\n",
        "4.strings are enclosed in single or double quotes and Lists are written inside square brackets\n",
        "5 Examples\n",
        "string = \" web Blinders\"\n",
        "list =[12,\"hi\",(3,4,5)]"
      ],
      "metadata": {
        "id": "OfiTI0pv1QbU"
      }
    },
    {
      "cell_type": "markdown",
      "source": [
        "4.Write a string for your own of approximately 40 in length and perform any 5 different string operations on that."
      ],
      "metadata": {
        "id": "riR1PWxG1Qdq"
      }
    },
    {
      "cell_type": "code",
      "source": [
        "#Write your code here\n",
        "str = input()\n",
        "print(str.lower())\n",
        "print(str.upper())\n",
        "print(str.swapcase())\n",
        "print(len(str))\n",
        "print(str.replace(' ','--'))"
      ],
      "metadata": {
        "id": "3bHyrDS12e8i",
        "colab": {
          "base_uri": "https://localhost:8080/"
        },
        "outputId": "99d03868-680c-4ea3-84a7-fab7face8fe0"
      },
      "execution_count": null,
      "outputs": [
        {
          "output_type": "stream",
          "name": "stdout",
          "text": [
            "Hello  Welcome\n",
            "hello  welcome\n",
            "HELLO  WELCOME\n",
            "hELLO  wELCOME\n",
            "14\n",
            "Hello----Welcome\n"
          ]
        }
      ]
    },
    {
      "cell_type": "markdown",
      "source": [
        "5.Explain the concatination in strings with a neat example."
      ],
      "metadata": {
        "id": "bbUm7VVN1Qfu"
      }
    },
    {
      "cell_type": "code",
      "source": [
        "#write your code and explanation here\n",
        "s1 = \"hello\"\n",
        "s2 = \"welcome\"\n",
        "s3 = s1 + s2\n",
        "print(s3)\n"
      ],
      "metadata": {
        "id": "y9292Q452tF0",
        "colab": {
          "base_uri": "https://localhost:8080/"
        },
        "outputId": "18df2954-371b-4258-e0cf-f2df646b905f"
      },
      "execution_count": null,
      "outputs": [
        {
          "output_type": "stream",
          "name": "stdout",
          "text": [
            "hellowelcome\n"
          ]
        }
      ]
    },
    {
      "cell_type": "code",
      "source": [],
      "metadata": {
        "id": "vnMNtJgq2xuG"
      },
      "execution_count": null,
      "outputs": []
    }
  ]
}