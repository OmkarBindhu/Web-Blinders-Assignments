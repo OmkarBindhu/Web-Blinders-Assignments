{
  "nbformat": 4,
  "nbformat_minor": 0,
  "metadata": {
    "colab": {
      "provenance": []
    },
    "kernelspec": {
      "name": "python3",
      "display_name": "Python 3"
    },
    "language_info": {
      "name": "python"
    }
  },
  "cells": [
    {
      "cell_type": "markdown",
      "source": [
        "*** USE THE CONCEPT OF FUNCTIONS TO SOLVE THE BELOW PROGRAMMING QUESTIONS ***"
      ],
      "metadata": {
        "id": "Rg2ZBqGAQwAf"
      }
    },
    {
      "cell_type": "markdown",
      "source": [
        "1) Write a Python function to sum all the numbers in a list.\n",
        "\n",
        "Sample List : (8, 2, 3, 0, 7)\n",
        "\n",
        "Expected Output : 20\n"
      ],
      "metadata": {
        "id": "ScHTvbE1QwCo"
      }
    },
    {
      "cell_type": "code",
      "source": [
        "#WRITE YOUR CODE HERE\n",
        "def sum(a):\n",
        "    s = 0\n",
        "    for i in a:\n",
        "        s += i\n",
        "    return s\n",
        "print(sum((8, 2, 3, 0, 7)))"
      ],
      "metadata": {
        "id": "aR_k4uReQ8Og",
        "colab": {
          "base_uri": "https://localhost:8080/"
        },
        "outputId": "d218c376-0e32-4a9e-9090-257bbc5397b3"
      },
      "execution_count": 2,
      "outputs": [
        {
          "output_type": "stream",
          "name": "stdout",
          "text": [
            "20\n"
          ]
        }
      ]
    },
    {
      "cell_type": "markdown",
      "source": [
        "2) Write a Python function to multiply all the numbers in a list.\n",
        "\n",
        "Sample List : (8, 2, 3, -1, 7)\n",
        "\n",
        "Expected Output : -336"
      ],
      "metadata": {
        "id": "dZtcDLjAQwE-"
      }
    },
    {
      "cell_type": "code",
      "source": [
        "#WRITE YOUR CODE HERE\n",
        "def multiply(a):\n",
        "    m = 1\n",
        "    for i in a:\n",
        "        m *= i\n",
        "    return m\n",
        "print(multiply((8, 2, 3, -1, 7)))"
      ],
      "metadata": {
        "id": "98uwoSPnRHyL",
        "colab": {
          "base_uri": "https://localhost:8080/"
        },
        "outputId": "723d178c-1d8e-4f8f-e915-5e41efb8e92c"
      },
      "execution_count": 3,
      "outputs": [
        {
          "output_type": "stream",
          "name": "stdout",
          "text": [
            "-336\n"
          ]
        }
      ]
    },
    {
      "cell_type": "markdown",
      "source": [
        "3) Write a Python program to reverse a string.\n",
        "\n",
        "Sample String : \"1234abcd\"\n",
        "\n",
        "Expected Output : \"dcba4321\""
      ],
      "metadata": {
        "id": "99G7rde1QwHN"
      }
    },
    {
      "cell_type": "code",
      "source": [
        "#WRITE YOUR CODE HERE\n",
        "def reverse(a):\n",
        "    return a[::-1]\n",
        "print(reverse(\"1234abcd\"))"
      ],
      "metadata": {
        "id": "6qmLELFCRQAD",
        "colab": {
          "base_uri": "https://localhost:8080/"
        },
        "outputId": "e90fde0d-aabf-4e45-9edd-2e4a3572e496"
      },
      "execution_count": 4,
      "outputs": [
        {
          "output_type": "stream",
          "name": "stdout",
          "text": [
            "dcba4321\n"
          ]
        }
      ]
    },
    {
      "cell_type": "markdown",
      "source": [
        "4) Write a Python function to calculate the factorial of a number (a non-negative integer). The function accepts the number as an argument."
      ],
      "metadata": {
        "id": "_XE8as7eQwJn"
      }
    },
    {
      "cell_type": "code",
      "source": [
        "#WRITE YOUR CODE HERE\n",
        "def factorial(a):\n",
        "    f = 1\n",
        "    for i in range(1,a+1):\n",
        "        f *= i\n",
        "    return f\n",
        "print(factorial(5))"
      ],
      "metadata": {
        "id": "Di5n5kNARZdn",
        "colab": {
          "base_uri": "https://localhost:8080/"
        },
        "outputId": "d746c527-9ee2-4751-b69c-9e6120d91ae9"
      },
      "execution_count": 5,
      "outputs": [
        {
          "output_type": "stream",
          "name": "stdout",
          "text": [
            "120\n"
          ]
        }
      ]
    },
    {
      "cell_type": "markdown",
      "source": [
        "5) Write a Python function to check whether a number falls within a given range."
      ],
      "metadata": {
        "id": "I2zyMS7XQwLx"
      }
    },
    {
      "cell_type": "code",
      "source": [
        "#WRITE YOUR CODE HERE\n",
        "def range(n,a,b):\n",
        "  if(n>=a and n<=b):\n",
        "    return True\n",
        "  else:\n",
        "    return False\n",
        "print(range(5,1,10))"
      ],
      "metadata": {
        "id": "rouydHDQRgcc",
        "colab": {
          "base_uri": "https://localhost:8080/"
        },
        "outputId": "9f8a1265-b184-4555-d4dd-aa9de1d97ca7"
      },
      "execution_count": 6,
      "outputs": [
        {
          "output_type": "stream",
          "name": "stdout",
          "text": [
            "True\n"
          ]
        }
      ]
    }
  ]
}